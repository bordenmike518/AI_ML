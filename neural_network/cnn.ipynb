{
 "cells": [
  {
   "cell_type": "code",
   "execution_count": 1,
   "metadata": {},
   "outputs": [],
   "source": [
    "import numpy as np"
   ]
  },
  {
   "cell_type": "code",
   "execution_count": 138,
   "metadata": {},
   "outputs": [],
   "source": [
    "class CNN:\n",
    "    def __init__(self):\n",
    "        pass\n",
    "\n",
    "    def conv(self, image, kernal, featureMapShape,\n",
    "             f=lambda x: x if(x > 0) else 0):\n",
    "        if (featureMapShape):\n",
    "            featureMap = np.zeros(featureMapShape)\n",
    "            rng = featureMapShape[0]\n",
    "        else:\n",
    "            rng = int(len(image) - np.ceil(len(kernal)/2))\n",
    "            featureMap = np.zeros((rng, rng))\n",
    "        for i in range(rng):\n",
    "            for j in range(rng):\n",
    "                mbuff = image[j: j+len(kernal),\n",
    "                              i: i+len(kernal)] * kernal \n",
    "                featureMap[j][i] = f(np.sum(mbuff))\n",
    "        return featureMap\n",
    "    \n",
    "    def pooling(self, featureMap, box=3, stride=3, \n",
    "                f=lambda x:np.max(x)):\n",
    "        rng = int((np.ceil(len(featureMap) / box)) * box)\n",
    "        rng2 =int(rng/stride)\n",
    "        pool = np.zeros((rng2, rng2))\n",
    "        for i in range(rng2):\n",
    "            for j in range(rng2):\n",
    "                istride = i * stride\n",
    "                jstride = j * stride\n",
    "                pool[i][j] = f(featureMap[\n",
    "                               istride: istride+box,\n",
    "                               jstride: jstride+box])\n",
    "        return pool\n",
    "        \n",
    "    def resizeImage(self, image, size, xbuff=0, ybuff=0):\n",
    "        assert len(image) < size[0], \"ERROR: resizeImage()\"\n",
    "        assert len(image[0]) < size[1], \"ERROR: resizeImage()\"\n",
    "        canv = np.zeros(size)\n",
    "        canv[ybuff:len(image)+ybuff,\n",
    "             xbuff:len(image[0])+xbuff] += image\n",
    "        return canv"
   ]
  },
  {
   "cell_type": "code",
   "execution_count": 141,
   "metadata": {},
   "outputs": [
    {
     "name": "stdout",
     "output_type": "stream",
     "text": [
      "Image\n",
      "[[0 0 0 0 0 0 0]\n",
      " [0 1 0 0 0 1 0]\n",
      " [0 0 0 0 0 0 0]\n",
      " [0 0 0 1 0 0 0]\n",
      " [0 1 0 0 0 1 0]\n",
      " [0 0 1 1 1 0 0]\n",
      " [0 0 0 0 0 0 0]]\n",
      "Kernal\n",
      "[[0 0 1]\n",
      " [1 0 0]\n",
      " [0 1 1]]\n",
      "Feature Map\n",
      "[[0. 1. 0. 0. 0.]\n",
      " [0. 1. 1. 1. 0.]\n",
      " [1. 0. 0. 2. 1.]\n",
      " [1. 4. 2. 1. 0.]\n",
      " [0. 0. 1. 2. 1.]]\n",
      "Pooling\n",
      "[[1. 1. 0.]\n",
      " [4. 2. 1.]\n",
      " [0. 2. 1.]]\n"
     ]
    }
   ],
   "source": [
    "print('Image')\n",
    "image = np.array([[0,0,0,0,0,0,0],\n",
    "                  [0,1,0,0,0,1,0],\n",
    "                  [0,0,0,0,0,0,0],\n",
    "                  [0,0,0,1,0,0,0],\n",
    "                  [0,1,0,0,0,1,0],\n",
    "                  [0,0,1,1,1,0,0],\n",
    "                  [0,0,0,0,0,0,0]])\n",
    "print(image)\n",
    "print('Kernal')\n",
    "kernal = np.array([[0,0,1],\n",
    "                   [1,0,0],\n",
    "                   [0,1,1]])\n",
    "print(kernal)\n",
    "cnn = CNN()\n",
    "print('Feature Map')\n",
    "featureMap = cnn.conv(image, kernal, (5,5))\n",
    "print(featureMap)\n",
    "print('Pooling')\n",
    "pool = cnn.pooling(featureMap, 2, 2)\n",
    "print(pool)"
   ]
  },
  {
   "cell_type": "code",
   "execution_count": null,
   "metadata": {},
   "outputs": [],
   "source": []
  }
 ],
 "metadata": {
  "kernelspec": {
   "display_name": "Python 3",
   "language": "python",
   "name": "python3"
  },
  "language_info": {
   "codemirror_mode": {
    "name": "ipython",
    "version": 3
   },
   "file_extension": ".py",
   "mimetype": "text/x-python",
   "name": "python",
   "nbconvert_exporter": "python",
   "pygments_lexer": "ipython3",
   "version": "3.5.2"
  }
 },
 "nbformat": 4,
 "nbformat_minor": 2
}
