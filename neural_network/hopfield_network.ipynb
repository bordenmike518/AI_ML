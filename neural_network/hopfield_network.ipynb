{
 "cells": [
  {
   "cell_type": "code",
   "execution_count": 65,
   "metadata": {},
   "outputs": [],
   "source": [
    "import numpy as np"
   ]
  },
  {
   "cell_type": "code",
   "execution_count": 121,
   "metadata": {},
   "outputs": [],
   "source": [
    "class HopfieldNetwork:\n",
    "    def __init__(self, N):\n",
    "        self.N = N\n",
    "        # Synapse Count = (8 * 8) - 8 = 56\n",
    "        self.W = np.zeros(N * N).reshape(N,N)\n",
    "\n",
    "    def learn(self, V):\n",
    "        VVT = V * V.T - np.identity(len(V))\n",
    "        self.W += VVT\n",
    "\n",
    "    def activation(self, V):\n",
    "        W = self.W * V.T\n",
    "        A = [1 if (sum(r) >= 0) else -1 for r in W]\n",
    "        return np.array(A)\n",
    "\n",
    "    def remember(self, V):\n",
    "        A = activation(self.W, V)\n",
    "        for i, (x1, x2) in enumerate(zip(V, A)):\n",
    "            if (x1[0] != x2):\n",
    "                V[i][0] *= -1\n",
    "        return V"
   ]
  },
  {
   "cell_type": "code",
   "execution_count": 122,
   "metadata": {},
   "outputs": [
    {
     "name": "stdout",
     "output_type": "stream",
     "text": [
      "I remember that...\n",
      "and that, too!!\n"
     ]
    }
   ],
   "source": [
    "X = np.array([[[0]]*8]*4)\n",
    "# Patterns to remember of -1 and 1\n",
    "X[0] = np.array([1, -1, 1, -1, 1, -1, 1, -1]).reshape(8,1)\n",
    "X[1] = np.array([1, 1, 1, 1, -1, -1, -1, -1]).reshape(8,1)\n",
    "# One index flipped for easy recognition\n",
    "X[2] = np.array([1, 1, 1, -1, 1, -1, 1, -1]).reshape(8,1)\n",
    "X[3] = np.array([-1, 1, 1, 1, -1, -1, -1, -1]).reshape(8,1)\n",
    "\n",
    "# How many neurons\n",
    "N = 8\n",
    "# Init Hopefield Network\n",
    "hn = HopfieldNetwork(N)\n",
    "# Learn the pattern\n",
    "hn.learn(X[0])\n",
    "hn.learn(X[1])\n",
    "# See if you remember the pattern that most closely\n",
    "# resembles what it has previously learned\n",
    "if (np.array_equal(X[0], hn.remember(X[2]))):\n",
    "    print(\"I remember that...\")\n",
    "if (np.array_equiv(X[1], hn.remember(X[3]))):\n",
    "    print(\"and that, too!!\")"
   ]
  },
  {
   "cell_type": "code",
   "execution_count": null,
   "metadata": {},
   "outputs": [],
   "source": []
  }
 ],
 "metadata": {
  "kernelspec": {
   "display_name": "Python 3",
   "language": "python",
   "name": "python3"
  },
  "language_info": {
   "codemirror_mode": {
    "name": "ipython",
    "version": 3
   },
   "file_extension": ".py",
   "mimetype": "text/x-python",
   "name": "python",
   "nbconvert_exporter": "python",
   "pygments_lexer": "ipython3",
   "version": "3.5.2"
  }
 },
 "nbformat": 4,
 "nbformat_minor": 2
}
