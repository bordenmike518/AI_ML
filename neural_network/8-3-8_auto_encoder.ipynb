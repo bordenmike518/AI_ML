{
 "cells": [
  {
   "cell_type": "code",
   "execution_count": 3,
   "metadata": {},
   "outputs": [],
   "source": [
    "import numpy as np"
   ]
  },
  {
   "cell_type": "code",
   "execution_count": 4,
   "metadata": {},
   "outputs": [],
   "source": [
    "# Single Hidden Layer Auto-Encoder\n",
    "class SHLAE:\n",
    "    def __init__(self, input_nodes, hidden_nodes, output_nodes, learning_rate):\n",
    "        self.lr = learning_rate\n",
    "    \n",
    "        self.hidden = np.array(hidden_nodes)\n",
    "        self.output = np.array(output_nodes)\n",
    "\n",
    "        # Topology: Feed Forward < 8, 3, 8 >\n",
    "        self.ih = np.random.rand(hidden_nodes,input_nodes)\n",
    "        self.ho = np.random.rand(output_nodes,hidden_nodes)\n",
    "        \n",
    "        self.tanh = lambda x : np.tanh(x)\n",
    "        self.step = lambda x : np.heaviside(x, 1)\n",
    "\n",
    "    def forward(self, X):\n",
    "        self.X = np.array(X, ndmin=2).T\n",
    "        self.hidden = self.tanh(np.dot(self.ih, self.X))\n",
    "        self.output = self.step(np.dot(self.ho, self.hidden))\n",
    "        \n",
    "    def backpropagation(self, X, target):\n",
    "        target = np.array(target, ndmin=2).T\n",
    "        output_error = target - self.output\n",
    "        hidden_error = np.dot(self.ho.T, output_error)\n",
    "        self.ho += self.lr * np.dot(output_error, self.hidden.T)\n",
    "        self.ih += self.lr * np.dot(hidden_error, self.X.T)\n",
    "\n",
    "    def fit(self, inputs, targets):\n",
    "        acc = 0\n",
    "        for i, t in zip(inputs, targets):\n",
    "            self.forward(i)\n",
    "            self.backpropagation(i, t)\n",
    "            acc += np.sum(t - self.output)\n",
    "        return acc"
   ]
  },
  {
   "cell_type": "code",
   "execution_count": 5,
   "metadata": {},
   "outputs": [
    {
     "name": "stdout",
     "output_type": "stream",
     "text": [
      "Accuracy [0]: -448.0\n",
      "Accuracy [100]: -328.0\n",
      "Accuracy [200]: -232.0\n",
      "Accuracy [300]: -176.0\n",
      "Accuracy [400]: -136.0\n",
      "Accuracy [500]: -64.0\n",
      "Accuracy [600]: -24.0\n",
      "Accuracy [637]: 0.0\n"
     ]
    }
   ],
   "source": [
    "data = np.array([[0,0,0,0,0,0,0,1],\n",
    "                 [0,0,0,0,0,0,1,0],\n",
    "                 [0,0,0,0,0,1,0,0], \n",
    "                 [0,0,0,0,1,0,0,0],\n",
    "                 [0,0,0,1,0,0,0,0],\n",
    "                 [0,0,1,0,0,0,0,0],\n",
    "                 [0,1,0,0,0,0,0,0],\n",
    "                 [1,0,0,0,0,0,0,0]])\n",
    "\n",
    "auto_encoder = SHLAE(8, 3, 8, 0.001)\n",
    "epochs = 1000\n",
    "while (True):\n",
    "    acc = auto_encoder.fit(data, data)\n",
    "    if (epochs % 100 == 0 or acc == 0):\n",
    "        print('Accuracy [{}]: {}'.format(1000-epochs, acc))\n",
    "    epochs -= 1\n",
    "    if (epochs == 0 or acc == 0):\n",
    "        break"
   ]
  },
  {
   "cell_type": "code",
   "execution_count": null,
   "metadata": {},
   "outputs": [],
   "source": []
  }
 ],
 "metadata": {
  "kernelspec": {
   "display_name": "Python 3",
   "language": "python",
   "name": "python3"
  },
  "language_info": {
   "codemirror_mode": {
    "name": "ipython",
    "version": 3
   },
   "file_extension": ".py",
   "mimetype": "text/x-python",
   "name": "python",
   "nbconvert_exporter": "python",
   "pygments_lexer": "ipython3",
   "version": "3.5.2"
  }
 },
 "nbformat": 4,
 "nbformat_minor": 2
}
