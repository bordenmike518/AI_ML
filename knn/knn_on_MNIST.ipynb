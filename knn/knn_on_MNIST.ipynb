{
 "cells": [
  {
   "cell_type": "code",
   "execution_count": 1,
   "metadata": {},
   "outputs": [],
   "source": [
    "import time\n",
    "import math\n",
    "import numpy as np\n",
    "from mpl_toolkits.mplot3d import Axes3D\n",
    "import matplotlib.pyplot as plt\n",
    "%matplotlib inline"
   ]
  },
  {
   "cell_type": "code",
   "execution_count": 8,
   "metadata": {},
   "outputs": [],
   "source": [
    "# Accuracy against MNIST is 95.78%\n",
    "def knn(k, unknown, labels, positions):\n",
    "    nearest_k = np.array([['unknown', 1<<15, [0]*len(positions[0])]] * k, dtype=object)\n",
    "    for i, point in enumerate(positions):\n",
    "        r = distance(unknown, point)\n",
    "        if (r < nearest_k[-1][1]):\n",
    "            nearest_k[-1] = np.array([labels[i], r, point], dtype=object)\n",
    "            nearest_k = nearest_k[nearest_k[:,1].argsort()]\n",
    "    return most_common(nearest_k), nearest_k\n",
    "\n",
    "def distance(unknown_vector, labeled_vector):\n",
    "    total = 0\n",
    "    for uv, lv in zip(unknown_vector, labeled_vector):\n",
    "        total += math.pow(lv-uv, 2)\n",
    "    return math.sqrt(total)\n",
    "\n",
    "def most_common(nearest_k):\n",
    "    nearest_k_dict = dict()\n",
    "    for label in nearest_k[:,0]:\n",
    "        if(label in nearest_k_dict):\n",
    "            nearest_k_dict[label] += 1\n",
    "        else:\n",
    "            nearest_k_dict[label] = 1\n",
    "    nearest_neighbor = max(nearest_k_dict, key=nearest_k_dict.get)\n",
    "    return nearest_neighbor"
   ]
  },
  {
   "cell_type": "code",
   "execution_count": 12,
   "metadata": {},
   "outputs": [],
   "source": [
    "def extractDataAndLabels(fileName):\n",
    "    fname = open(fileName, \"r\")\n",
    "    labels = []\n",
    "    values = fname.readlines()\n",
    "    fname.close()\n",
    "    for i, record in enumerate(values):\n",
    "        data = record.split(\",\")\n",
    "        values[i] = np.asfarray(data[1:])\n",
    "        values[i][values[i] < 150] = 0\n",
    "        values[i][values[i] > 149] = 1\n",
    "        labels.append(int(data[0]))\n",
    "    return labels, values\n",
    "\n",
    "def test_knn(k, test_labels, test_values, train_labels, train_values):\n",
    "    right = 0\n",
    "    total = 0\n",
    "    for i, t_value in enumerate(test_values):\n",
    "        nn, nearest_k = knn(k, t_value, train_labels, train_values)\n",
    "        if (nn == test_labels[i]):\n",
    "            right += 1\n",
    "        total += 1\n",
    "    return right/total"
   ]
  },
  {
   "cell_type": "code",
   "execution_count": 13,
   "metadata": {},
   "outputs": [
    {
     "name": "stdout",
     "output_type": "stream",
     "text": [
      "Opening Training Data\n",
      "Opening Testing Data\n",
      "Testing kNN\n",
      "kNN accuracy is 0.9578\n"
     ]
    }
   ],
   "source": [
    "def main():\n",
    "    np.random.seed(int(time.time()))\n",
    "    #sample_size = 30\n",
    "    k = 5\n",
    "    test_value_index = 2000\n",
    "    # Open file to loop through\n",
    "    print(\"Opening Training Data\")\n",
    "    MNIST_Train_Labels, MNIST_Train_Values = extractDataAndLabels(\"../datasets/MNIST/mnist_train.csv\")\n",
    "    print(\"Opening Testing Data\")\n",
    "    MNIST_Test_Labels, MNIST_Test_Values = extractDataAndLabels(\"../datasets/MNIST/mnist_test.csv\")\n",
    "    #size = 50\n",
    "    #data_1 = [[\"Blue\", x, y, z] for x, y, z in zip(np.random.rand(sample_size), np.random.rand(sample_size), np.random.rand(sample_size))]\n",
    "    #data_2 = [[\"Orange\", x, y, z] for x, y, z in zip(np.random.rand(sample_size), np.random.rand(sample_size), np.random.rand(sample_size))]\n",
    "    #data = np.array(data_1 + data_2)\n",
    "    #un_x, un_y, un_z = np.random.rand(), np.random.rand(), np.random.rand()\n",
    "    #labels = data[:,0]\n",
    "    #positions = np.array(data[:,1:], dtype=float)\n",
    "    print(\"Testing kNN\")\n",
    "    accuracy = test_knn(k, MNIST_Test_Labels, MNIST_Test_Values, MNIST_Train_Labels, MNIST_Train_Values)\n",
    "    print(\"kNN accuracy is {}\".format(accuracy))\n",
    "    #x_1 = [row[1] for row in data_1]\n",
    "    #y_1 = [row[2] for row in data_1]\n",
    "    #z_1 = [row[3] for row in data_1]\n",
    "    #x_2 = [row[1] for row in data_2]\n",
    "    #y_2 = [row[2] for row in data_2]\n",
    "    #z_2 = [row[3] for row in data_2]\n",
    "    #x_k = [row[2][0] for row in nearest_k]\n",
    "    #y_k = [row[2][1] for row in nearest_k]\n",
    "    #z_k = [row[2][2] for row in nearest_k]\n",
    "\n",
    "    #fig = plt.figure()\n",
    "    #ax = fig.add_subplot(111, projection='3d')\n",
    "    #ax.scatter(x_1, y_1, z_1, s=size, marker='^')\n",
    "    #ax.scatter(x_2, y_2, z_2, s=size, marker='o')\n",
    "    #ax.scatter(x_k, y_k, z_k, s=size+30, marker='x')\n",
    "    #ax.scatter(un_x, un_y, un_z, s=size, marker='*')\n",
    "    #plt.title(nn)\n",
    "    #plt.show()\n",
    "\n",
    "if __name__ == '__main__':\n",
    "    main()"
   ]
  },
  {
   "cell_type": "code",
   "execution_count": null,
   "metadata": {},
   "outputs": [],
   "source": []
  },
  {
   "cell_type": "code",
   "execution_count": null,
   "metadata": {},
   "outputs": [],
   "source": []
  }
 ],
 "metadata": {
  "kernelspec": {
   "display_name": "Python 3",
   "language": "python",
   "name": "python3"
  },
  "language_info": {
   "codemirror_mode": {
    "name": "ipython",
    "version": 3
   },
   "file_extension": ".py",
   "mimetype": "text/x-python",
   "name": "python",
   "nbconvert_exporter": "python",
   "pygments_lexer": "ipython3",
   "version": "3.5.2"
  }
 },
 "nbformat": 4,
 "nbformat_minor": 2
}
